{
 "cells": [
  {
   "cell_type": "markdown",
   "metadata": {},
   "source": [
    "**Model Capacity:** <br>\n",
    "You might be confuesd about what it is. I got you. <br><br>\n",
    "The capacity of a deep learning neural network model controls the scope of the types of mapping functions that it is able to learn.\n",
    "<br><br>\n",
    "A model with too little capacity cannot learn the training dataset meaning it will underfit, whereas a model with too much capacity may memorize the training dataset, meaning it will overfit or may get stuck or lost during the optimization process.\n",
    "<br><br>\n",
    "The capacity of a neural network model is defined by configuring the number of nodes and the number of layers.\n",
    "<br><br >\n",
    "In this tutorial, you will discover how to control the capacity of a neural network model and how capacity impacts what a model is capable of learning."
   ]
  },
  {
   "cell_type": "code",
   "execution_count": null,
   "metadata": {},
   "outputs": [],
   "source": []
  }
 ],
 "metadata": {
  "language_info": {
   "name": "python"
  }
 },
 "nbformat": 4,
 "nbformat_minor": 2
}
